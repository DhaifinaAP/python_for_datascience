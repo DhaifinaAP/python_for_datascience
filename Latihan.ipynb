{
 "cells": [
  {
   "cell_type": "code",
   "execution_count": 9,
   "metadata": {},
   "outputs": [
    {
     "name": "stdout",
     "output_type": "stream",
     "text": [
      "Gaji per jam: 50,000\n",
      "Jam kerja per minggu: 20\n"
     ]
    }
   ],
   "source": [
    "# Data input\n",
    "gaji_per_jam = float(input(\"Masukkan gaji per jam Budi: \"))\n",
    "jam_kerja_per_minggu = float(input(\"Masukkan total jam kerja per minggu: \"))\n",
    "minggu_kerja = 5\n",
    "\n",
    "print (\"Gaji per jam: {:,.0f}\".format(gaji_per_jam))\n",
    "print (\"Jam kerja per minggu: {:,.0f}\".format(jam_kerja_per_minggu))"
   ]
  },
  {
   "cell_type": "code",
   "execution_count": 10,
   "metadata": {},
   "outputs": [
    {
     "name": "stdout",
     "output_type": "stream",
     "text": [
      "1. Pendapatan sebelum pajak: 5,000,000\n"
     ]
    }
   ],
   "source": [
    "# 1. Menghitung pendapatan sebelum pajak\n",
    "pendapatan_sebelum_pajak = gaji_per_jam * jam_kerja_per_minggu * minggu_kerja\n",
    "\n",
    "print(\"1. Pendapatan sebelum pajak: {:,.0f}\".format(pendapatan_sebelum_pajak))"
   ]
  },
  {
   "cell_type": "code",
   "execution_count": 11,
   "metadata": {},
   "outputs": [
    {
     "name": "stdout",
     "output_type": "stream",
     "text": [
      "2. Pendapatan setelah pajak: 4,300,000\n"
     ]
    }
   ],
   "source": [
    "# 2. Menghitung pendapatan setelah pajak\n",
    "pajak = 0.14 * pendapatan_sebelum_pajak\n",
    "pendapatan_setelah_pajak = pendapatan_sebelum_pajak - pajak\n",
    "\n",
    "print(\"2. Pendapatan setelah pajak: {:,.0f}\".format(pendapatan_setelah_pajak))"
   ]
  },
  {
   "cell_type": "code",
   "execution_count": 12,
   "metadata": {},
   "outputs": [
    {
     "name": "stdout",
     "output_type": "stream",
     "text": [
      "3. Pengeluaran untuk baju dan aksesoris: 430,000\n"
     ]
    }
   ],
   "source": [
    "# 3. Jumlah uang yang akan dihabiskan untuk membeli pakaian dan aksesoris\n",
    "pengeluaran_baju_aksesoris = 0.10 * pendapatan_setelah_pajak\n",
    "\n",
    "print(\"3. Pengeluaran untuk baju dan aksesoris: {:,.0f}\".format(pengeluaran_baju_aksesoris))"
   ]
  },
  {
   "cell_type": "code",
   "execution_count": 13,
   "metadata": {},
   "outputs": [
    {
     "name": "stdout",
     "output_type": "stream",
     "text": [
      "4. Pengeluaran untuk alat tulis: 43,000\n"
     ]
    }
   ],
   "source": [
    "# 4. Jumlah uang yang akan dihabiskan untuk membeli alat tulis\n",
    "pengeluaran_alat_tulis = 0.01 * pendapatan_setelah_pajak\n",
    "\n",
    "print(\"4. Pengeluaran untuk alat tulis: {:,.0f}\".format(pengeluaran_alat_tulis))"
   ]
  },
  {
   "cell_type": "code",
   "execution_count": 14,
   "metadata": {},
   "outputs": [
    {
     "name": "stdout",
     "output_type": "stream",
     "text": [
      "5. Jumlah uang yang disedekahkan: 956,750\n"
     ]
    }
   ],
   "source": [
    "# 5. Jumlah uang yang akan disedekahkan\n",
    "sisa_setelah_belanja = pendapatan_setelah_pajak - (pengeluaran_baju_aksesoris + pengeluaran_alat_tulis)\n",
    "sedekah = 0.25 * sisa_setelah_belanja\n",
    "\n",
    "print(\"5. Jumlah uang yang disedekahkan: {:,.0f}\".format(sedekah))"
   ]
  },
  {
   "cell_type": "code",
   "execution_count": 15,
   "metadata": {},
   "outputs": [
    {
     "name": "stdout",
     "output_type": "stream",
     "text": [
      "6. Uang yang diterima anak yatim: 287,025\n"
     ]
    }
   ],
   "source": [
    "# 6. Jumlah uang yang diterima anak yatim\n",
    "untuk_anak_yatim = 0.30 * sedekah\n",
    "\n",
    "print(\"6. Uang yang diterima anak yatim: {:,.0f}\".format(untuk_anak_yatim))"
   ]
  },
  {
   "cell_type": "code",
   "execution_count": 16,
   "metadata": {},
   "outputs": [
    {
     "name": "stdout",
     "output_type": "stream",
     "text": [
      "7. Uang yang diterima kaum dhuafa: 669,725\n"
     ]
    }
   ],
   "source": [
    "# 7. Jumlah uang yang diterima kaum dhuafa\n",
    "untuk_kaum_dhuafa = 0.70 * sedekah\n",
    "\n",
    "print(\"7. Uang yang diterima kaum dhuafa: {:,.0f}\".format(untuk_kaum_dhuafa))"
   ]
  }
 ],
 "metadata": {
  "kernelspec": {
   "display_name": "Python 3",
   "language": "python",
   "name": "python3"
  },
  "language_info": {
   "codemirror_mode": {
    "name": "ipython",
    "version": 3
   },
   "file_extension": ".py",
   "mimetype": "text/x-python",
   "name": "python",
   "nbconvert_exporter": "python",
   "pygments_lexer": "ipython3",
   "version": "3.11.5"
  }
 },
 "nbformat": 4,
 "nbformat_minor": 2
}
