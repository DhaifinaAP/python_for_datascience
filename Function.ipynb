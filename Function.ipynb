{
  "nbformat": 4,
  "nbformat_minor": 0,
  "metadata": {
    "colab": {
      "provenance": [],
      "include_colab_link": true
    },
    "kernelspec": {
      "name": "python3",
      "display_name": "Python 3"
    },
    "language_info": {
      "name": "python"
    }
  },
  "cells": [
    {
      "cell_type": "markdown",
      "metadata": {
        "id": "view-in-github",
        "colab_type": "text"
      },
      "source": [
        "<a href=\"https://colab.research.google.com/github/DhaifinaAP/python_for_datascience/blob/main/Function.ipynb\" target=\"_parent\"><img src=\"https://colab.research.google.com/assets/colab-badge.svg\" alt=\"Open In Colab\"/></a>"
      ]
    },
    {
      "cell_type": "markdown",
      "source": [
        "**@create By : Dede Brahma Arianto S.Kom., M.Kom**"
      ],
      "metadata": {
        "id": "EaeYhtq4ePtY"
      }
    },
    {
      "cell_type": "markdown",
      "source": [
        "# Function"
      ],
      "metadata": {
        "id": "p6zUQtU8GYm1"
      }
    },
    {
      "cell_type": "code",
      "execution_count": null,
      "metadata": {
        "id": "qBggfmOYGJL1"
      },
      "outputs": [],
      "source": [
        "#@title fungsi sederhana\n",
        "\n",
        "def coba_fungsi():\n",
        "\tprint(\"ini adalah fungsi\")\n"
      ]
    },
    {
      "cell_type": "code",
      "source": [
        "coba_fungsi()"
      ],
      "metadata": {
        "id": "qOIFERV8GhZl",
        "colab": {
          "base_uri": "https://localhost:8080/"
        },
        "outputId": "80c1f0fc-9e9e-4906-bde5-e5a56cc86037"
      },
      "execution_count": null,
      "outputs": [
        {
          "output_type": "stream",
          "name": "stdout",
          "text": [
            "ini adalah fungsi\n"
          ]
        }
      ]
    },
    {
      "cell_type": "code",
      "source": [
        "#@title fungsi dengan return\n",
        "\n",
        "def coba_fungsi2():\n",
        "\tvar_tes = \"ini adalah fungsi\"\n",
        "\treturn var_tes\n"
      ],
      "metadata": {
        "id": "S2KyWp9YGjqv"
      },
      "execution_count": null,
      "outputs": []
    },
    {
      "cell_type": "code",
      "source": [
        "hasil = coba_fungsi2()\n",
        "print(\"Hasil fungsi adalah: \", hasil)\n",
        "\n",
        "# print(\"Hasil fungsi adalah: \", coba_fungsi2())"
      ],
      "metadata": {
        "colab": {
          "base_uri": "https://localhost:8080/"
        },
        "id": "FPy0q0tzGlFL",
        "outputId": "4a1a1568-69c3-4bce-df7a-478cf0604eaf"
      },
      "execution_count": null,
      "outputs": [
        {
          "output_type": "stream",
          "name": "stdout",
          "text": [
            "Hasil fungsi adalah:  ini adalah fungsi\n"
          ]
        }
      ]
    },
    {
      "cell_type": "code",
      "source": [
        "#@title fungsi dengan 2 return\n",
        "\n",
        "def coba_fungsi3():\n",
        "  var_1 = \"ini isi variabel 1\"\n",
        "  var_2 = \"ini isi variabel 2\"\n",
        "  return var_1, var_2\n",
        "\n",
        "hasil1, hasil2 = coba_fungsi3()\n",
        "print(\"Hasil 1 : \", hasil1)\n",
        "print(\"Hasil 2 : \", hasil2)\n",
        "\n",
        "# hasil1 = coba_fungsi3()\n",
        "# print(\"Hasil 1 : \", hasil1)"
      ],
      "metadata": {
        "colab": {
          "base_uri": "https://localhost:8080/"
        },
        "id": "RmtPmuYVGmX5",
        "outputId": "52b1779f-b4cd-4b33-a362-ee66e6acf1f0"
      },
      "execution_count": null,
      "outputs": [
        {
          "output_type": "stream",
          "name": "stdout",
          "text": [
            "Hasil 1 :  ini isi variabel 1\n",
            "Hasil 2 :  ini isi variabel 2\n"
          ]
        }
      ]
    },
    {
      "cell_type": "code",
      "source": [
        "#@title fungsi dengan argument\n",
        "\n",
        "def coba_fungsi4(a, b):\n",
        "  var_a = a\n",
        "  var_b = b\n",
        "  var_c = var_a + var_b\n",
        "  return var_c"
      ],
      "metadata": {
        "id": "bTnENICIGn79"
      },
      "execution_count": null,
      "outputs": []
    },
    {
      "cell_type": "code",
      "source": [
        "nilai_1 = 5\n",
        "nilai_2 = 10\n",
        "\n",
        "hasil_nilai = coba_fungsi4(nilai_1, nilai_2)\n",
        "print(\"Hasil penjumlahan: \", hasil_nilai)"
      ],
      "metadata": {
        "colab": {
          "base_uri": "https://localhost:8080/"
        },
        "id": "rQ1H1E_AGpCe",
        "outputId": "d4c334df-1b94-43a0-df20-128807aeee91"
      },
      "execution_count": null,
      "outputs": [
        {
          "output_type": "stream",
          "name": "stdout",
          "text": [
            "Hasil penjumlahan:  15\n"
          ]
        }
      ]
    },
    {
      "cell_type": "code",
      "source": [
        "hasil_nilai = coba_fungsi4(20, 5)\n",
        "print(\"Hasil penjumlahan: \", hasil_nilai)"
      ],
      "metadata": {
        "colab": {
          "base_uri": "https://localhost:8080/"
        },
        "id": "5zggasEgGqY8",
        "outputId": "8c5267b4-997e-4aa6-8da0-57a99d677e39"
      },
      "execution_count": null,
      "outputs": [
        {
          "output_type": "stream",
          "name": "stdout",
          "text": [
            "Hasil penjumlahan:  25\n"
          ]
        }
      ]
    },
    {
      "cell_type": "code",
      "source": [
        "hasil_nilai = coba_fungsi4((int(input(\"masukkan nilai 1 = \"))), (int(input(\"masukkan nilai 2= \"))))\n",
        "print(\"Hasil penjumlahan: \", hasil_nilai)"
      ],
      "metadata": {
        "colab": {
          "base_uri": "https://localhost:8080/"
        },
        "id": "8gbpWc2dGsIl",
        "outputId": "e1d038fa-680a-4033-df44-29f5bcf1635b"
      },
      "execution_count": null,
      "outputs": [
        {
          "output_type": "stream",
          "name": "stdout",
          "text": [
            "masukkan nilai 1 = 20\n",
            "masukkan nilai 2= 50\n",
            "Hasil penjumlahan:  70\n"
          ]
        }
      ]
    },
    {
      "cell_type": "code",
      "source": [
        "#@title fungsi dengan 2 argument dan 2 return\n",
        "\n",
        "def coba_fungsi5(a, b):\n",
        "  var_a = a * 2\n",
        "  var_b = b * 4\n",
        "  return var_a, var_b\n",
        "\n",
        "hasil1, hasil2 = coba_fungsi5(10, 3)\n",
        "print(\"Hasil 1 : \", hasil1)\n",
        "print(\"Hasil 2 : \", hasil2)"
      ],
      "metadata": {
        "colab": {
          "base_uri": "https://localhost:8080/"
        },
        "id": "nIpW8M_yGtmZ",
        "outputId": "f5c5cbb6-42cf-469f-bf2c-153b7206213e"
      },
      "execution_count": null,
      "outputs": [
        {
          "output_type": "stream",
          "name": "stdout",
          "text": [
            "Hasil 1 :  20\n",
            "Hasil 2 :  12\n"
          ]
        }
      ]
    },
    {
      "cell_type": "markdown",
      "source": [
        "### Fungsi dengan *args"
      ],
      "metadata": {
        "id": "KPQBC3qWGwHT"
      }
    },
    {
      "cell_type": "markdown",
      "source": [
        "Untuk args menggunakan satu tanda bintang \"*\" Dapat diartikan bahwa def function(*args) akan mengambil seluruh nilai dalam input mengikuti posisi yang sudah ditentukan sebagai variabelnya."
      ],
      "metadata": {
        "id": "T-xbthUrGxUr"
      }
    },
    {
      "cell_type": "code",
      "source": [
        "def coba_fungsi6(*args):\n",
        "  print(args)"
      ],
      "metadata": {
        "id": "ySBjDg2cGzXz"
      },
      "execution_count": null,
      "outputs": []
    },
    {
      "cell_type": "code",
      "source": [
        "coba_fungsi6(\"apple\", \"banana\", \"cherry\", \"semangka\")"
      ],
      "metadata": {
        "colab": {
          "base_uri": "https://localhost:8080/"
        },
        "id": "Z9P2OVKTG3pf",
        "outputId": "060d2977-2557-4b23-da13-fcb05f6ad23b"
      },
      "execution_count": null,
      "outputs": [
        {
          "output_type": "stream",
          "name": "stdout",
          "text": [
            "('apple', 'banana', 'cherry', 'semangka')\n"
          ]
        }
      ]
    },
    {
      "cell_type": "code",
      "source": [
        "def coba_fungsi7(*args):\n",
        "  for y in args:\n",
        "    x = y\n",
        "    print(x)\n",
        "\n",
        "\n",
        "coba_fungsi7(\"apple\", \"banana\", \"cherry\")"
      ],
      "metadata": {
        "colab": {
          "base_uri": "https://localhost:8080/"
        },
        "id": "vOqKgtkrG5XX",
        "outputId": "0593d70b-8743-47c9-b2ae-d446c7693674"
      },
      "execution_count": null,
      "outputs": [
        {
          "output_type": "stream",
          "name": "stdout",
          "text": [
            "apple\n",
            "banana\n",
            "cherry\n"
          ]
        }
      ]
    },
    {
      "cell_type": "code",
      "source": [
        "fruits = [\"apple\", \"banana\", \"cherry\"]\n",
        "\n",
        "def coba_fungsi8(*buah):\n",
        "  for item in buah:\n",
        "    for i in item:\n",
        "      print(i)\n",
        "\n",
        "\n",
        "coba_fungsi8(fruits)"
      ],
      "metadata": {
        "colab": {
          "base_uri": "https://localhost:8080/"
        },
        "id": "A4cbF9L7G6mv",
        "outputId": "712eb066-ba8b-4957-cfe8-dcef41fa3edf"
      },
      "execution_count": null,
      "outputs": [
        {
          "output_type": "stream",
          "name": "stdout",
          "text": [
            "apple\n",
            "banana\n",
            "cherry\n"
          ]
        }
      ]
    },
    {
      "cell_type": "markdown",
      "source": [
        "### Fungsi dengan **kwargs"
      ],
      "metadata": {
        "id": "DHsUTBdEG8O9"
      }
    },
    {
      "cell_type": "markdown",
      "source": [
        "Untuk kargs menggunakan satu tanda bintang \"**\" Dapat diartikan bahwa def function(**kwargs) akan mengambil seluruh nilai dalam key dan valuenya yang ada dalam variabel."
      ],
      "metadata": {
        "id": "1Z43mjSlG8yZ"
      }
    },
    {
      "cell_type": "code",
      "source": [
        "def coba_fungsi9(**kwargs):\n",
        "  print(kwargs)"
      ],
      "metadata": {
        "id": "mx6iD6AqG-Za"
      },
      "execution_count": null,
      "outputs": []
    },
    {
      "cell_type": "code",
      "source": [
        "coba_fungsi9(item1 = \"apple\", item2 = \"banana\", item3 = \"cherry\")"
      ],
      "metadata": {
        "colab": {
          "base_uri": "https://localhost:8080/"
        },
        "id": "4YTKY6kQG_ti",
        "outputId": "4c63ae61-0f80-4cbb-8619-9a81128706b9"
      },
      "execution_count": null,
      "outputs": [
        {
          "output_type": "stream",
          "name": "stdout",
          "text": [
            "{'item1': 'apple', 'item2': 'banana', 'item3': 'cherry'}\n"
          ]
        }
      ]
    },
    {
      "cell_type": "code",
      "source": [
        "def coba_fungsi10(**kwargs):\n",
        "  for key in kwargs:\n",
        "    print(key + \": \" + kwargs[key])\n",
        "\n",
        "\n",
        "coba_fungsi10(item1 = \"apple\", item2 = \"banana\", item3 = \"cherry\")"
      ],
      "metadata": {
        "colab": {
          "base_uri": "https://localhost:8080/"
        },
        "id": "Qpj-_cddHBKX",
        "outputId": "240536dc-9f7e-4dc6-b007-9b0f4fbe4881"
      },
      "execution_count": null,
      "outputs": [
        {
          "output_type": "stream",
          "name": "stdout",
          "text": [
            "item1: apple\n",
            "item2: banana\n",
            "item3: cherry\n"
          ]
        }
      ]
    },
    {
      "cell_type": "code",
      "source": [
        "mahasiswa = {\"nama\": \"Dede\", \"jurusan\": \"IT\", \"semester\": \"5\"}\n",
        "\n",
        "def coba_fungsi11(**data_mhs):\n",
        "  for key in data_mhs:\n",
        "    print(key + \": \" + data_mhs[key])\n",
        "\n",
        "\n",
        "coba_fungsi11(**mahasiswa)"
      ],
      "metadata": {
        "colab": {
          "base_uri": "https://localhost:8080/"
        },
        "id": "d23aXcS9HDah",
        "outputId": "693a7f7d-408c-4c24-948c-51703409cd23"
      },
      "execution_count": null,
      "outputs": [
        {
          "output_type": "stream",
          "name": "stdout",
          "text": [
            "nama: Dede\n",
            "jurusan: IT\n",
            "semester: 5\n"
          ]
        }
      ]
    },
    {
      "cell_type": "markdown",
      "source": [
        "## Nested Function (Closure)"
      ],
      "metadata": {
        "id": "tAYRIUljLwa1"
      }
    },
    {
      "cell_type": "code",
      "source": [
        "def hitung_rata_rata(nilai1, nilai2, nilai3):\n",
        "\n",
        "  def update_nilai():\n",
        "    update1 = nilai1 + 2\n",
        "    update2 = nilai2 + 3\n",
        "    update3 = nilai3 + 4\n",
        "    return update1, update2, update3\n",
        "\n",
        "  hasil = update_nilai()\n",
        "  return hasil\n"
      ],
      "metadata": {
        "id": "HwB5kjCOKWX1"
      },
      "execution_count": null,
      "outputs": []
    },
    {
      "cell_type": "code",
      "source": [
        "a = 5\n",
        "b = 10\n",
        "c = 15\n",
        "\n",
        "rata_rata = hitung_rata_rata(a, b, c)\n",
        "print(\"Hasil rata-rata: \", rata_rata)"
      ],
      "metadata": {
        "colab": {
          "base_uri": "https://localhost:8080/"
        },
        "id": "GH7vlrEFLTyN",
        "outputId": "ed544fd1-f844-422d-def2-a553aa6435cf"
      },
      "execution_count": null,
      "outputs": [
        {
          "output_type": "stream",
          "name": "stdout",
          "text": [
            "Hasil rata-rata:  (7, 13, 19)\n"
          ]
        }
      ]
    },
    {
      "cell_type": "markdown",
      "source": [
        "## Fungsi Default Parameter"
      ],
      "metadata": {
        "id": "g1iQ2Ra0MfVg"
      }
    },
    {
      "cell_type": "code",
      "source": [
        "def coba_fungsi12(nama, umur=20):\n",
        "  print(\"Nama: \", nama)\n",
        "  print(\"Umur: \", umur)\n",
        "\n",
        "coba_fungsi12(\"Dede\")"
      ],
      "metadata": {
        "colab": {
          "base_uri": "https://localhost:8080/"
        },
        "id": "DQXbLeKsMEDW",
        "outputId": "625697c8-fa73-4518-9ee1-9075f841b95c"
      },
      "execution_count": null,
      "outputs": [
        {
          "output_type": "stream",
          "name": "stdout",
          "text": [
            "Nama:  Dede\n",
            "Umur:  20\n"
          ]
        }
      ]
    },
    {
      "cell_type": "markdown",
      "source": [
        "## Fungsi Kombinasi Arguments"
      ],
      "metadata": {
        "id": "7DItXyZ3XOW6"
      }
    },
    {
      "cell_type": "code",
      "source": [
        "def coba_fungsi13(message, *params,  **others):\n",
        "    print(f\"message: {message}\")\n",
        "    print(f\"params: {params}\")\n",
        "    print(f\"others: {others}\")\n",
        "\n",
        "coba_fungsi13(\"hello world\", 1, True, (\"yesn't\", \"nope\"), say_something=\"how are you\", name=\"nokia 3310\", discontinued=True, year_released=2000)"
      ],
      "metadata": {
        "colab": {
          "base_uri": "https://localhost:8080/"
        },
        "id": "nOveo-LjWqQK",
        "outputId": "7b8e376a-e2ad-4475-8a80-a98cb507e744"
      },
      "execution_count": null,
      "outputs": [
        {
          "output_type": "stream",
          "name": "stdout",
          "text": [
            "message: hello world\n",
            "params: (1, True, (\"yesn't\", 'nope'))\n",
            "others: {'say_something': 'how are you', 'name': 'nokia 3310', 'discontinued': True, 'year_released': 2000}\n"
          ]
        }
      ]
    },
    {
      "cell_type": "markdown",
      "source": [
        "## Fungsi dengan Matrix"
      ],
      "metadata": {
        "id": "ZA2lk1rPYXiw"
      }
    },
    {
      "cell_type": "code",
      "source": [
        "def coba_fungsi14(matrix=[]):\n",
        "    if len(matrix) == 0:\n",
        "        print(\"[]\")\n",
        "\n",
        "    for item in matrix:\n",
        "        print(item)\n"
      ],
      "metadata": {
        "id": "NVCQK8vdYZ7M"
      },
      "execution_count": null,
      "outputs": []
    },
    {
      "cell_type": "code",
      "source": [
        "print(\"Output matrix 1:\")\n",
        "coba_fungsi14()"
      ],
      "metadata": {
        "colab": {
          "base_uri": "https://localhost:8080/"
        },
        "id": "uhlU5I5_Y5x5",
        "outputId": "ee807b37-c9c2-4ffa-c118-d9bcfcbd5490"
      },
      "execution_count": null,
      "outputs": [
        {
          "output_type": "stream",
          "name": "stdout",
          "text": [
            "Output matrix 1:\n",
            "[]\n"
          ]
        }
      ]
    },
    {
      "cell_type": "code",
      "source": [
        "print(\"Output matrix 2:\")\n",
        "coba_fungsi14([\n",
        "    [1, 2],\n",
        "    [5, 6],\n",
        "])"
      ],
      "metadata": {
        "colab": {
          "base_uri": "https://localhost:8080/"
        },
        "id": "6oskc_7xY_HO",
        "outputId": "6fb14f35-cf4f-42cc-da8f-950854bee24d"
      },
      "execution_count": null,
      "outputs": [
        {
          "output_type": "stream",
          "name": "stdout",
          "text": [
            "Output matrix 2:\n",
            "[1, 2]\n",
            "[5, 6]\n"
          ]
        }
      ]
    },
    {
      "cell_type": "markdown",
      "source": [
        "## Fungsi dengan Agregator"
      ],
      "metadata": {
        "id": "Zxucez2dasqC"
      }
    },
    {
      "cell_type": "code",
      "source": [
        "def aggregate(perintah, nilai, action):\n",
        "    res = action(nilai)\n",
        "    print(\"Hasil agregate\", perintah, \":\", res)"
      ],
      "metadata": {
        "id": "t-P2wE7bcJkP"
      },
      "execution_count": null,
      "outputs": []
    },
    {
      "cell_type": "code",
      "source": [
        "aggregate(\"total\", [24, 67, 22, 98, 3, 50], sum)"
      ],
      "metadata": {
        "colab": {
          "base_uri": "https://localhost:8080/"
        },
        "id": "fRuXfpu1bEVE",
        "outputId": "0cc4fa5e-cfea-48e5-cbda-15f401b6e923"
      },
      "execution_count": null,
      "outputs": [
        {
          "output_type": "stream",
          "name": "stdout",
          "text": [
            "Hasil agregate total : 264\n"
          ]
        }
      ]
    },
    {
      "cell_type": "code",
      "source": [
        "aggregate(\"Max\", [24, 67, 22, 98, 3, 50], max)"
      ],
      "metadata": {
        "colab": {
          "base_uri": "https://localhost:8080/"
        },
        "id": "hJexc7AGcTRN",
        "outputId": "0e8e8378-76e3-4520-a491-796d26c5b336"
      },
      "execution_count": null,
      "outputs": [
        {
          "output_type": "stream",
          "name": "stdout",
          "text": [
            "Hasil agregate Max : 98\n"
          ]
        }
      ]
    },
    {
      "cell_type": "code",
      "source": [
        "aggregate(\"Min\", [24, 67, 22, 98, 3, 50], min)"
      ],
      "metadata": {
        "colab": {
          "base_uri": "https://localhost:8080/"
        },
        "id": "kmDmzh2Vca4T",
        "outputId": "3533356e-4ef7-4421-cdcc-5dbe81a970ef"
      },
      "execution_count": null,
      "outputs": [
        {
          "output_type": "stream",
          "name": "stdout",
          "text": [
            "Hasil agregate Min : 3\n"
          ]
        }
      ]
    },
    {
      "cell_type": "markdown",
      "source": [
        "## Soal 1\n",
        "\n",
        "Buatlah script “kalkulator” yang terdiri dari dua parameter “x” dan “y” yang akan diisi angka dan parameter “operasi” yang akan diisi nama operasi seperti “penjumlahan”, “pengurangan”, “perkalian” dan “pembagian”\n",
        "\n",
        "Input:\n",
        "kalkulator(a = 10, b = 4, operasi = “penjumlahan”)\n",
        "\n",
        "Output:\n",
        "14\n"
      ],
      "metadata": {
        "id": "MI8_i6y0OZ94"
      }
    },
    {
      "cell_type": "code",
      "source": [
        "# Definisi fungsi kalkulator dengan parameter x, y, dan operasi\n",
        "def kalkulator(x, y, operasi):\n",
        "    # Cek jenis operasi yang diminta\n",
        "    if operasi == \"penjumlahan\":\n",
        "        return x + y\n",
        "    elif operasi == \"pengurangan\":\n",
        "        return x - y\n",
        "    elif operasi == \"perkalian\":\n",
        "        return x * y\n",
        "    elif operasi == \"pembagian\":\n",
        "        # Pembagian, pastikan y tidak 0 untuk menghindari error\n",
        "        if y != 0:\n",
        "            return x / y\n",
        "        else:\n",
        "            return \"Error: Tidak bisa membagi dengan nol\"\n",
        "    else:\n",
        "        return \"Operasi tidak valid\"\n",
        "\n",
        "# Contoh penggunaan\n",
        "a = 10\n",
        "b = 4\n",
        "operasi = \"penjumlahan\"\n",
        "\n",
        "# Panggil fungsi kalkulator\n",
        "hasil = kalkulator(a, b, operasi)\n",
        "print(hasil)\n"
      ],
      "metadata": {
        "colab": {
          "base_uri": "https://localhost:8080/"
        },
        "id": "kF557hQM-Alz",
        "outputId": "bab008b2-99ed-4cbb-c36e-c195f93c065f"
      },
      "execution_count": null,
      "outputs": [
        {
          "output_type": "stream",
          "name": "stdout",
          "text": [
            "14\n"
          ]
        }
      ]
    },
    {
      "cell_type": "markdown",
      "source": [
        "## Soal 2\n",
        "\n",
        "Buat lah 3 fungsi yang didalamnya terdapat :\n",
        "\n",
        "* conditional if\n",
        "* condition loop\n",
        "* args dan kwargs"
      ],
      "metadata": {
        "id": "xoubsJWOHHy-"
      }
    },
    {
      "cell_type": "code",
      "source": [
        "def hitung_positif(*args):\n",
        "    count = 0\n",
        "    # Loop melalui setiap elemen dalam args\n",
        "    for angka in args:\n",
        "        # Jika angka lebih besar dari 0, tambahkan ke count\n",
        "        if angka > 0:\n",
        "            count += 1\n",
        "    return count\n",
        "\n",
        "# Contoh penggunaan\n",
        "hasil = hitung_positif(-1, 2, 3, -5, 6, 0)\n",
        "print(f\"Jumlah angka positif: {hasil}\")\n"
      ],
      "metadata": {
        "colab": {
          "base_uri": "https://localhost:8080/"
        },
        "id": "cIsVHDWP-NUp",
        "outputId": "f0c3ae3f-5b1f-48f1-d278-752b768ae4ae"
      },
      "execution_count": null,
      "outputs": [
        {
          "output_type": "stream",
          "name": "stdout",
          "text": [
            "Jumlah angka positif: 3\n"
          ]
        }
      ]
    },
    {
      "cell_type": "code",
      "source": [
        "def cetak_ganjil_dan_hitung_kwargs(*args, **kwargs):\n",
        "    print(\"Bilangan ganjil dari args:\")\n",
        "    for angka in args:\n",
        "        if angka % 2 != 0:\n",
        "            print(angka)\n",
        "\n",
        "    # Menghitung jumlah elemen kwargs\n",
        "    jumlah_kwargs = len(kwargs)\n",
        "    print(f\"Jumlah kata kunci dalam kwargs: {jumlah_kwargs}\")\n",
        "\n",
        "# Contoh penggunaan\n",
        "cetak_ganjil_dan_hitung_kwargs(1, 2, 3, 4, 5, nama=\"Andi\", usia=25)\n"
      ],
      "metadata": {
        "colab": {
          "base_uri": "https://localhost:8080/"
        },
        "id": "5VI7kRRC-P_2",
        "outputId": "ab341056-f4cd-4a12-ac60-d28afd5bad3e"
      },
      "execution_count": null,
      "outputs": [
        {
          "output_type": "stream",
          "name": "stdout",
          "text": [
            "Bilangan ganjil dari args:\n",
            "1\n",
            "3\n",
            "5\n",
            "Jumlah kata kunci dalam kwargs: 2\n"
          ]
        }
      ]
    },
    {
      "cell_type": "code",
      "source": [
        "def hitung_total_harga(*args, diskon=0, **kwargs):\n",
        "    total = 0\n",
        "\n",
        "    # Menghitung total dari args (harga barang)\n",
        "    for harga in args:\n",
        "        total += harga\n",
        "\n",
        "    # Jika diskon tersedia, kurangi dari total\n",
        "    total -= total * (diskon / 100)\n",
        "\n",
        "    return total\n",
        "\n",
        "# Contoh penggunaan\n",
        "total_harga = hitung_total_harga(100, 200, 300, diskon=10)\n",
        "print(f\"Total harga setelah diskon: {total_harga}\")"
      ],
      "metadata": {
        "colab": {
          "base_uri": "https://localhost:8080/"
        },
        "id": "A60XQFUI-VmJ",
        "outputId": "c4c73f86-d5ce-4839-e308-034a8fcedbce"
      },
      "execution_count": null,
      "outputs": [
        {
          "output_type": "stream",
          "name": "stdout",
          "text": [
            "Total harga setelah diskon: 540.0\n"
          ]
        }
      ]
    },
    {
      "cell_type": "code",
      "source": [
        "def cetak_info(*args, **kwargs):\n",
        "    if len(args) > 0:\n",
        "        print(\"Daftar argumen:\")\n",
        "        for i, arg in enumerate(args, 1):\n",
        "            print(f\"  {i}. {arg}\")\n",
        "    else:\n",
        "        print(\"Tidak ada argumen.\")\n",
        "\n",
        "    if kwargs:\n",
        "        print(\"\\nInformasi tambahan:\")\n",
        "        for key, value in kwargs.items():\n",
        "            if isinstance(value, list):\n",
        "                print(f\"  {key}:\")\n",
        "                for item in value:\n",
        "                    print(f\"    - {item}\")\n",
        "            else:\n",
        "                print(f\"  {key}: {value}\")\n",
        "\n",
        "    print(\"\\nSelesai!\")\n",
        "\n",
        "# Contoh penggunaan\n",
        "cetak_info(\"apel\", \"jeruk\", nama=\"Budi\", hobi=[\"membaca\", \"berenang\"], umur=25)"
      ],
      "metadata": {
        "colab": {
          "base_uri": "https://localhost:8080/"
        },
        "id": "p_DQU_UAyowu",
        "outputId": "127567cb-9094-4e17-c21d-1210e1317a0e"
      },
      "execution_count": null,
      "outputs": [
        {
          "output_type": "stream",
          "name": "stdout",
          "text": [
            "Daftar argumen:\n",
            "  1. apel\n",
            "  2. jeruk\n",
            "\n",
            "Informasi tambahan:\n",
            "  nama: Budi\n",
            "  hobi:\n",
            "    - membaca\n",
            "    - berenang\n",
            "  umur: 25\n",
            "\n",
            "Selesai!\n"
          ]
        }
      ]
    }
  ]
}