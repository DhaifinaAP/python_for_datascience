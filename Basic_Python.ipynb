{
  "nbformat": 4,
  "nbformat_minor": 0,
  "metadata": {
    "colab": {
      "provenance": [],
      "include_colab_link": true
    },
    "kernelspec": {
      "name": "python3",
      "display_name": "Python 3"
    },
    "language_info": {
      "name": "python"
    }
  },
  "cells": [
    {
      "cell_type": "markdown",
      "metadata": {
        "id": "view-in-github",
        "colab_type": "text"
      },
      "source": [
        "<a href=\"https://colab.research.google.com/github/DhaifinaAP/python_for_datascience/blob/main/Basic_Python.ipynb\" target=\"_parent\"><img src=\"https://colab.research.google.com/assets/colab-badge.svg\" alt=\"Open In Colab\"/></a>"
      ]
    },
    {
      "cell_type": "markdown",
      "source": [
        "**@create By : Dede Brahma Arianto S.Kom., M.Kom**"
      ],
      "metadata": {
        "id": "647cG5G4dz5U"
      }
    },
    {
      "cell_type": "markdown",
      "source": [
        "# Basic Python"
      ],
      "metadata": {
        "id": "Vx4h1_ZPZrkq"
      }
    },
    {
      "cell_type": "markdown",
      "source": [
        "## Variable"
      ],
      "metadata": {
        "id": "ufVeYZSOZvv0"
      }
    },
    {
      "cell_type": "code",
      "source": [
        "nama = 'dhaifina'\n",
        "print(nama)"
      ],
      "metadata": {
        "colab": {
          "base_uri": "https://localhost:8080/"
        },
        "id": "s9WgS-iM8cf7",
        "outputId": "a0143ef4-8834-43dd-d9b6-7adc28e6db3f"
      },
      "execution_count": null,
      "outputs": [
        {
          "output_type": "stream",
          "name": "stdout",
          "text": [
            "dhaifina\n"
          ]
        }
      ]
    },
    {
      "cell_type": "markdown",
      "source": [],
      "metadata": {
        "id": "7QXynUGs8fKV"
      }
    },
    {
      "cell_type": "code",
      "execution_count": null,
      "metadata": {
        "id": "87-xocetZZoL"
      },
      "outputs": [],
      "source": [
        "#@title Variable\n",
        "\n",
        "nama = 'Dede'\n",
        "umur = 18\n",
        "berat_badan = 87.5"
      ]
    },
    {
      "cell_type": "code",
      "source": [
        "print(\"Nama :\", nama)\n",
        "print(\"Umur :\", umur)\n",
        "print(\"Berat Badan :\", berat_badan)"
      ],
      "metadata": {
        "colab": {
          "base_uri": "https://localhost:8080/"
        },
        "id": "Ls3AgQzXZ7He",
        "outputId": "3672b23f-f174-4acd-c71e-def22f6cab77"
      },
      "execution_count": null,
      "outputs": [
        {
          "output_type": "stream",
          "name": "stdout",
          "text": [
            "Nama : Dede\n",
            "Umur : 18\n",
            "Berat Badan : 87.5\n"
          ]
        }
      ]
    },
    {
      "cell_type": "code",
      "source": [
        "#@title Variable with Input\n",
        "\n",
        "nama2 = input(\"Masukkan Nama Anda: \")\n",
        "umur2 = input(\"Masukkan Usia Anda: \")\n",
        "berat_badan2 = input(\"Masukkan Berat Badan Anda: \")"
      ],
      "metadata": {
        "colab": {
          "base_uri": "https://localhost:8080/"
        },
        "id": "-gQF582faZHh",
        "outputId": "63f4b746-cbcc-45b7-f743-7a158a19f756"
      },
      "execution_count": null,
      "outputs": [
        {
          "name": "stdout",
          "output_type": "stream",
          "text": [
            "Masukkan Nama Anda: iva\n",
            "Masukkan Usia Anda: 19\n",
            "Masukkan Berat Badan Anda: 55\n"
          ]
        }
      ]
    },
    {
      "cell_type": "code",
      "source": [
        "print(\"Nama :\", nama2)\n",
        "print(\"Umur :\", umur2)\n",
        "print(\"Berat Badan :\", berat_badan2)"
      ],
      "metadata": {
        "colab": {
          "base_uri": "https://localhost:8080/"
        },
        "id": "ZlzkVLF1aqlc",
        "outputId": "2aeeca0b-01d8-44ca-c8f1-2036d4d756dc"
      },
      "execution_count": null,
      "outputs": [
        {
          "output_type": "stream",
          "name": "stdout",
          "text": [
            "Nama : iva\n",
            "Umur : 19\n",
            "Berat Badan : 55\n"
          ]
        }
      ]
    },
    {
      "cell_type": "code",
      "source": [
        "#@title Calculate with Variable\n",
        "\n",
        "tinggi_badan = 1.75\n",
        "bmi = berat_badan / (tinggi_badan ** 2)\n",
        "\n",
        "print(\"Berat Ideal :\", bmi)"
      ],
      "metadata": {
        "id": "YKMgaqCfaCkx",
        "colab": {
          "base_uri": "https://localhost:8080/"
        },
        "outputId": "64262b07-fe27-437e-84d8-942d52828c2d"
      },
      "execution_count": null,
      "outputs": [
        {
          "output_type": "stream",
          "name": "stdout",
          "text": [
            "Berat Ideal : 28.571428571428573\n"
          ]
        }
      ]
    },
    {
      "cell_type": "code",
      "source": [
        "#@title Update Value Variable\n",
        "\n",
        "umur2 = 22"
      ],
      "metadata": {
        "id": "a8qc7E1WaGGZ"
      },
      "execution_count": null,
      "outputs": []
    },
    {
      "cell_type": "code",
      "source": [
        "print(\"Nama :\", nama)\n",
        "print(\"Umur 1 :\", umur)\n",
        "print(\"Umur 2 :\", umur2)\n",
        "print(\"Berat Badan :\", berat_badan)\n",
        "print(\"Tinggi Badan :\", tinggi_badan)\n",
        "print(\"BMI :\", bmi)"
      ],
      "metadata": {
        "colab": {
          "base_uri": "https://localhost:8080/"
        },
        "id": "WVtI888GaHxp",
        "outputId": "21c88698-e635-45c1-e668-9299328aad9b"
      },
      "execution_count": null,
      "outputs": [
        {
          "output_type": "stream",
          "name": "stdout",
          "text": [
            "Nama : Dede\n",
            "Umur 1 : 18\n",
            "Umur 2 : 22\n",
            "Berat Badan : 87.5\n",
            "Tinggi Badan : 1.75\n",
            "BMI : 28.571428571428573\n"
          ]
        }
      ]
    },
    {
      "cell_type": "code",
      "source": [
        "nama_1 = 'dede'\n",
        "print(nama_1)"
      ],
      "metadata": {
        "colab": {
          "base_uri": "https://localhost:8080/"
        },
        "id": "RdTiJw-mY2eP",
        "outputId": "c08f2b9a-9ffb-43ed-eb3c-8b032ebf5130"
      },
      "execution_count": null,
      "outputs": [
        {
          "output_type": "stream",
          "name": "stdout",
          "text": [
            "dede\n"
          ]
        }
      ]
    },
    {
      "cell_type": "markdown",
      "source": [
        "## Komentar"
      ],
      "metadata": {
        "id": "HGYxcfrijgy9"
      }
    },
    {
      "cell_type": "code",
      "source": [
        "# ini adalah komentar\n",
        "# nama = 'dede' # ini adalah variabel nama\n",
        "# print(nama)\n",
        "# block code, kemudian ctrl + /"
      ],
      "metadata": {
        "id": "_fy41rfajiuL"
      },
      "execution_count": null,
      "outputs": []
    },
    {
      "cell_type": "markdown",
      "source": [
        "## Data Type"
      ],
      "metadata": {
        "id": "Dbi8Pj0zaKi8"
      }
    },
    {
      "cell_type": "code",
      "source": [
        "#@title Numeric Data Type\n",
        "\n",
        "a = 10        # integer\n",
        "b = 3.14      # float"
      ],
      "metadata": {
        "id": "yeYdU144axpr"
      },
      "execution_count": null,
      "outputs": []
    },
    {
      "cell_type": "code",
      "source": [
        "print(\"A :\", a)\n",
        "print(\"B :\", b)"
      ],
      "metadata": {
        "colab": {
          "base_uri": "https://localhost:8080/"
        },
        "id": "OUXtKgVKazEf",
        "outputId": "d8a66d16-eb07-4ae8-a52b-d72ff61a221d"
      },
      "execution_count": null,
      "outputs": [
        {
          "output_type": "stream",
          "name": "stdout",
          "text": [
            "A : 10\n",
            "B : 3.14\n"
          ]
        }
      ]
    },
    {
      "cell_type": "code",
      "source": [
        "#@title String Data Type\n",
        "\n",
        "nama = \"John Doe\"   # string\n",
        "alamat = 'Jl. Ahmad Yani No. 10'   # string"
      ],
      "metadata": {
        "id": "JO4oLtX4a2Sh"
      },
      "execution_count": null,
      "outputs": []
    },
    {
      "cell_type": "code",
      "source": [
        "print(\"Nama :\", nama)\n",
        "print(\"Alamat :\", alamat)"
      ],
      "metadata": {
        "colab": {
          "base_uri": "https://localhost:8080/"
        },
        "id": "JXF-1K5sa4Ok",
        "outputId": "dd92ceef-a2e8-46ca-fe8b-87c7c74b42d7"
      },
      "execution_count": null,
      "outputs": [
        {
          "output_type": "stream",
          "name": "stdout",
          "text": [
            "Nama : John Doe\n",
            "Alamat : Jl. Ahmad Yani No. 10\n"
          ]
        }
      ]
    },
    {
      "cell_type": "code",
      "source": [
        "#@title Boolean Data Type\n",
        "\n",
        "benar = True      # boolean True\n",
        "salah = False     # boolean False"
      ],
      "metadata": {
        "id": "mE4oTRxBa6AD"
      },
      "execution_count": null,
      "outputs": []
    },
    {
      "cell_type": "code",
      "source": [
        "print(benar)"
      ],
      "metadata": {
        "colab": {
          "base_uri": "https://localhost:8080/"
        },
        "id": "s71WtN8Ba8Jb",
        "outputId": "6c5caf24-cc05-4628-eaf8-d49ee20a2426"
      },
      "execution_count": null,
      "outputs": [
        {
          "output_type": "stream",
          "name": "stdout",
          "text": [
            "True\n"
          ]
        }
      ]
    },
    {
      "cell_type": "code",
      "source": [
        "#@title List Data Type\n",
        "\n",
        "buah = ['apel', 'jeruk', 'mangga', 'pisang']  # list\n",
        "angka = [1, 2, 3, 4, 5]                      # list"
      ],
      "metadata": {
        "id": "7ZN6pSGEa96S"
      },
      "execution_count": null,
      "outputs": []
    },
    {
      "cell_type": "code",
      "source": [
        "print(\"Buah :\", buah)\n",
        "print(\"Angka :\", angka)"
      ],
      "metadata": {
        "colab": {
          "base_uri": "https://localhost:8080/"
        },
        "id": "RBi4lb7ua_5r",
        "outputId": "4d69eb78-2aa4-4919-90e0-6c51772ada6a"
      },
      "execution_count": null,
      "outputs": [
        {
          "output_type": "stream",
          "name": "stdout",
          "text": [
            "Buah : ['apel', 'jeruk', 'mangga', 'pisang']\n",
            "Angka : [1, 2, 3, 4, 5]\n"
          ]
        }
      ]
    },
    {
      "cell_type": "code",
      "source": [
        "#@title Tuple Data Type\n",
        "\n",
        "hari = ('Senin', 'Selasa', 'Rabu', 'Kamis', 'Jumat')  #\n",
        "bulan = ('Januari', 'Februari', 'Maret')"
      ],
      "metadata": {
        "id": "YRvLQcuFbBuT"
      },
      "execution_count": null,
      "outputs": []
    },
    {
      "cell_type": "code",
      "source": [
        "print(\"Hari :\", hari)\n",
        "print(\"Bulan :\", bulan)"
      ],
      "metadata": {
        "colab": {
          "base_uri": "https://localhost:8080/"
        },
        "id": "9tyWq7tubDE-",
        "outputId": "22583992-bd21-4a30-dad5-a9a39ca693f2"
      },
      "execution_count": null,
      "outputs": [
        {
          "output_type": "stream",
          "name": "stdout",
          "text": [
            "Hari : ('Senin', 'Selasa', 'Rabu', 'Kamis', 'Jumat')\n",
            "Bulan : ('Januari', 'Februari', 'Maret')\n"
          ]
        }
      ]
    },
    {
      "cell_type": "code",
      "source": [
        "#@title Set Data Type\n",
        "\n",
        "buah = {'apel', 'jeruk', 'mangga', 'pisang'}  # set\n",
        "angka = set([1, 2, 3, 4, 5])"
      ],
      "metadata": {
        "id": "MxRWQ5TbbEom"
      },
      "execution_count": null,
      "outputs": []
    },
    {
      "cell_type": "code",
      "source": [
        "print(\"Buah :\", buah)\n",
        "print(\"Angka :\", angka)"
      ],
      "metadata": {
        "colab": {
          "base_uri": "https://localhost:8080/"
        },
        "id": "nMZFDD-1bGTe",
        "outputId": "6d049ca6-8e35-492b-8e10-33f8479b2e2c"
      },
      "execution_count": null,
      "outputs": [
        {
          "output_type": "stream",
          "name": "stdout",
          "text": [
            "Buah : {'jeruk', 'mangga', 'pisang', 'apel'}\n",
            "Angka : {1, 2, 3, 4, 5}\n"
          ]
        }
      ]
    },
    {
      "cell_type": "code",
      "source": [
        "#@title Dictionary Data Type\n",
        "\n",
        "data = {'nama': 'John Doe', 'umur': 25, 'alamat': 'Jl. Ahmad Yani No. 10'}   # dictionary\n",
        "# key (nama, umur, alamat)\n",
        "# value (john doe, 25, jl.ahmad yani)"
      ],
      "metadata": {
        "id": "_wxU3Ez8bH62"
      },
      "execution_count": null,
      "outputs": []
    },
    {
      "cell_type": "code",
      "source": [
        "print(data)"
      ],
      "metadata": {
        "colab": {
          "base_uri": "https://localhost:8080/"
        },
        "id": "9DVNG1olbJoW",
        "outputId": "f8ea6bfc-f537-4e6e-ee35-214f41bc1136"
      },
      "execution_count": null,
      "outputs": [
        {
          "output_type": "stream",
          "name": "stdout",
          "text": [
            "{'nama': 'John Doe', 'umur': 25, 'alamat': 'Jl. Ahmad Yani No. 10'}\n"
          ]
        }
      ]
    },
    {
      "cell_type": "code",
      "source": [
        "#@title Data Type Checking\n",
        "\n",
        "# Tipe data integer\n",
        "x = 5\n",
        "print(type(x))    # Output: <class 'int'>\n",
        "\n",
        "# Tipe data float\n",
        "y = 3.14\n",
        "print(type(y))    # Output: <class 'float'>\n",
        "\n",
        "# Tipe data string\n",
        "z = 'Hello, World!'\n",
        "print(type(z))    # Output: <class 'str'>\n",
        "\n",
        "# Tipe data boolean\n",
        "a = True\n",
        "print(type(a))    # Output: <class 'bool'>\n",
        "\n",
        "# Tipe data list\n",
        "b = [1, 2, 3, 4, 5]\n",
        "print(type(b))    # Output: <class 'list'>\n",
        "\n",
        "# Tipe data tuple\n",
        "c = (1, 2, 3, 4, 5)\n",
        "print(type(c))    # Output: <class 'tuple'>\n",
        "\n",
        "# Tipe data set\n",
        "d = {1, 2, 3, 4, 5}\n",
        "print(type(d))    # Output: <class 'set'>\n",
        "\n",
        "# Tipe data dictionary\n",
        "e = {'nama': 'John Doe', 'umur': 25}\n",
        "print(type(e))    # Output: <class 'dict'>\n"
      ],
      "metadata": {
        "colab": {
          "base_uri": "https://localhost:8080/"
        },
        "id": "skM8zbVjbNaW",
        "outputId": "ad9ccbb2-f136-4f83-81bd-a2ca8bcd4c1b"
      },
      "execution_count": null,
      "outputs": [
        {
          "output_type": "stream",
          "name": "stdout",
          "text": [
            "<class 'int'>\n",
            "<class 'float'>\n",
            "<class 'str'>\n",
            "<class 'bool'>\n",
            "<class 'list'>\n",
            "<class 'tuple'>\n",
            "<class 'set'>\n",
            "<class 'dict'>\n"
          ]
        }
      ]
    },
    {
      "cell_type": "markdown",
      "source": [
        "## Basic arithmetic operation"
      ],
      "metadata": {
        "id": "AcLWUH9GbSnm"
      }
    },
    {
      "cell_type": "code",
      "source": [
        "#@title Penjumlahan\n",
        "\n",
        "x = 10\n",
        "y = 5\n",
        "z = x + y\n",
        "print(z)    # Output: 15"
      ],
      "metadata": {
        "colab": {
          "base_uri": "https://localhost:8080/"
        },
        "id": "l_aAThBLbU4e",
        "outputId": "5f87f136-5a77-464f-f520-bbc950a4292b"
      },
      "execution_count": null,
      "outputs": [
        {
          "output_type": "stream",
          "name": "stdout",
          "text": [
            "15\n"
          ]
        }
      ]
    },
    {
      "cell_type": "code",
      "source": [
        "#@title Pengurangan\n",
        "\n",
        "x = 10\n",
        "y = 5\n",
        "z = x - y\n",
        "print(z)    # Output: 5"
      ],
      "metadata": {
        "colab": {
          "base_uri": "https://localhost:8080/"
        },
        "id": "wxVGljMHbb7u",
        "outputId": "ed56a9de-6dfb-499e-8964-b56898656088"
      },
      "execution_count": null,
      "outputs": [
        {
          "output_type": "stream",
          "name": "stdout",
          "text": [
            "5\n"
          ]
        }
      ]
    },
    {
      "cell_type": "code",
      "source": [
        "#@title Perkalian\n",
        "\n",
        "\n",
        "x = 10\n",
        "y = 5\n",
        "z = x * y\n",
        "print(z)    # Output: 50"
      ],
      "metadata": {
        "colab": {
          "base_uri": "https://localhost:8080/"
        },
        "id": "EF7SGyddbeEz",
        "outputId": "fda9e51b-e663-4e08-f686-f19de117b6d3"
      },
      "execution_count": null,
      "outputs": [
        {
          "output_type": "stream",
          "name": "stdout",
          "text": [
            "50\n"
          ]
        }
      ]
    },
    {
      "cell_type": "code",
      "source": [
        "#@title Pembagian\n",
        "\n",
        "x = 10\n",
        "y = 5\n",
        "z = x / y\n",
        "print(z)    # Output: 2.0"
      ],
      "metadata": {
        "colab": {
          "base_uri": "https://localhost:8080/"
        },
        "id": "Wf7u9-hgbgEl",
        "outputId": "fc2b3b17-3f0f-4635-bacf-7a36f11790a0"
      },
      "execution_count": null,
      "outputs": [
        {
          "output_type": "stream",
          "name": "stdout",
          "text": [
            "2.0\n"
          ]
        }
      ]
    },
    {
      "cell_type": "code",
      "source": [
        "#@title Pembagian Bulat\n",
        "\n",
        "x = 9\n",
        "y = 3\n",
        "z = x // y\n",
        "print(z)    # Output: 3"
      ],
      "metadata": {
        "colab": {
          "base_uri": "https://localhost:8080/"
        },
        "id": "cpIu7qXhbiWd",
        "outputId": "4b535528-20dd-4c7d-b8b5-a0c5ffd7e5f4"
      },
      "execution_count": null,
      "outputs": [
        {
          "output_type": "stream",
          "name": "stdout",
          "text": [
            "3\n"
          ]
        }
      ]
    },
    {
      "cell_type": "code",
      "source": [
        "#@title Modulus\n",
        "\n",
        "x = 13\n",
        "y = 3\n",
        "z = x % y\n",
        "print(z)    # Output: 1"
      ],
      "metadata": {
        "colab": {
          "base_uri": "https://localhost:8080/"
        },
        "id": "azsN3WPrblKp",
        "outputId": "be923a4d-678d-4e58-e041-65477b06ecc5"
      },
      "execution_count": null,
      "outputs": [
        {
          "output_type": "stream",
          "name": "stdout",
          "text": [
            "1\n"
          ]
        }
      ]
    },
    {
      "cell_type": "code",
      "source": [
        "#@title Pangkat\n",
        "\n",
        "\n",
        "x = 2\n",
        "y = 3\n",
        "z = x ** y\n",
        "print(z)    # Output: 8"
      ],
      "metadata": {
        "colab": {
          "base_uri": "https://localhost:8080/"
        },
        "id": "3i2XCuqEbnYV",
        "outputId": "4f2dba28-8f43-496e-8376-6b862e82fc79"
      },
      "execution_count": null,
      "outputs": [
        {
          "output_type": "stream",
          "name": "stdout",
          "text": [
            "8\n"
          ]
        }
      ]
    },
    {
      "cell_type": "markdown",
      "source": [
        "## String Manipulation"
      ],
      "metadata": {
        "id": "CCJi8zg5buZy"
      }
    },
    {
      "cell_type": "code",
      "source": [
        "#@title Concatenation\n",
        "\n",
        "\n",
        "a = \"Halo\"\n",
        "b = \"Dunia\"\n",
        "c = a + \" \" + b\n",
        "d = a + b\n",
        "print(c) # Output: \"Halo Dunia\"\n",
        "print(d)\n"
      ],
      "metadata": {
        "colab": {
          "base_uri": "https://localhost:8080/"
        },
        "id": "KQnB7EZLbwAx",
        "outputId": "2e9c89cd-7c53-41ad-f9da-6f38f00a7381"
      },
      "execution_count": null,
      "outputs": [
        {
          "output_type": "stream",
          "name": "stdout",
          "text": [
            "Halo Dunia\n",
            "HaloDunia\n"
          ]
        }
      ]
    },
    {
      "cell_type": "code",
      "source": [
        "#@title Multiplication\n",
        "\n",
        "a = \"Halo\"\n",
        "b = a * 3\n",
        "print(b) # Output: \"Halo Halo Halo \"\n"
      ],
      "metadata": {
        "colab": {
          "base_uri": "https://localhost:8080/"
        },
        "id": "zY8x2GTNb3wR",
        "outputId": "f9317f82-db35-4c88-e6e4-36764401c349"
      },
      "execution_count": null,
      "outputs": [
        {
          "output_type": "stream",
          "name": "stdout",
          "text": [
            "HaloHaloHalo\n"
          ]
        }
      ]
    },
    {
      "cell_type": "code",
      "source": [
        "#@title Indexing\n",
        "\n",
        "# index, start = 0\n",
        "# index positif = 0,1,2,3\n",
        "# index negatif = -1, -2, -3\n",
        "a = \"Halo, Dunia!\"\n",
        "\n",
        "b = a[0]\n",
        "c = a[2]\n",
        "d = a[-1]\n",
        "e = a[-12]\n",
        "f = len(a)\n",
        "\n",
        "\n",
        "print(a) # Output: \"Halo, Dunia!\"\n",
        "print(b) # Output: \"H\"\n",
        "print(c) # Output: \"l\"\n",
        "print(d) # Output: \"!\"\n",
        "print(e)\n",
        "print(f)"
      ],
      "metadata": {
        "colab": {
          "base_uri": "https://localhost:8080/"
        },
        "id": "UqywOYyfcgsJ",
        "outputId": "0595a900-59ca-4844-c9cb-b3e3d879dded"
      },
      "execution_count": null,
      "outputs": [
        {
          "output_type": "stream",
          "name": "stdout",
          "text": [
            "Halo, Dunia!\n",
            "H\n",
            "l\n",
            "!\n",
            "H\n",
            "12\n"
          ]
        }
      ]
    },
    {
      "cell_type": "code",
      "source": [
        "#@title Slicing\n",
        "# start:end\n",
        "# start:end:lompatan\n",
        "\n",
        "a = \"Halo Dunia\"\n",
        "b = a[0:6]\n",
        "c = a[0:8:2]\n",
        "d = a[:5]\n",
        "print(b)\n",
        "print(c) # Output: \"Halo\"\n",
        "print(d)"
      ],
      "metadata": {
        "colab": {
          "base_uri": "https://localhost:8080/"
        },
        "id": "TNna8ZMPb7aR",
        "outputId": "5e5035df-d7a9-4e4d-8b00-ad16da2c89c5"
      },
      "execution_count": null,
      "outputs": [
        {
          "output_type": "stream",
          "name": "stdout",
          "text": [
            "Halo D\n",
            "Hl u\n",
            "Halo \n"
          ]
        }
      ]
    },
    {
      "cell_type": "code",
      "source": [
        "#@title Replace\n",
        "# replace(oldvalue, newvalue)\n",
        "\n",
        "a = \"Halo Dunia\"\n",
        "b = a.replace(\"Dunia\", \"Semua\")\n",
        "print(b) # Output: \"Halo Semua\"\n"
      ],
      "metadata": {
        "colab": {
          "base_uri": "https://localhost:8080/"
        },
        "id": "6fR_YJ1mb-vt",
        "outputId": "92f25905-3f38-4f91-bd5d-d2aeb870dd6e"
      },
      "execution_count": null,
      "outputs": [
        {
          "output_type": "stream",
          "name": "stdout",
          "text": [
            "Halo Semua\n"
          ]
        }
      ]
    },
    {
      "cell_type": "code",
      "source": [
        "#@title Lowercase\n",
        "\n",
        "a = \"Halo Dunia\"\n",
        "b = a.lower()\n",
        "print(b) # Output: \"halo dunia\"\n"
      ],
      "metadata": {
        "colab": {
          "base_uri": "https://localhost:8080/"
        },
        "id": "_NkMEdUJcAtk",
        "outputId": "115e2804-4cfa-4c04-8434-25130b485c6c"
      },
      "execution_count": null,
      "outputs": [
        {
          "output_type": "stream",
          "name": "stdout",
          "text": [
            "halo dunia\n"
          ]
        }
      ]
    },
    {
      "cell_type": "code",
      "source": [
        "#@title Uppercase\n",
        "\n",
        "a = \"Halo Dunia\"\n",
        "b = a.upper()\n",
        "print(b) # Output: \"HALO DUNIA\"\n"
      ],
      "metadata": {
        "colab": {
          "base_uri": "https://localhost:8080/"
        },
        "id": "1-cINSfKcCI4",
        "outputId": "a8e61954-e40e-41f2-fcdb-a1e7e7a4dc46"
      },
      "execution_count": null,
      "outputs": [
        {
          "output_type": "stream",
          "name": "stdout",
          "text": [
            "HALO DUNIA\n"
          ]
        }
      ]
    },
    {
      "cell_type": "code",
      "source": [
        "#@title Capitalize\n",
        "\n",
        "a = \"Halo Dunia\"\n",
        "b = a.capitalize()\n",
        "print(b) # Output: \"Halo dunia\""
      ],
      "metadata": {
        "colab": {
          "base_uri": "https://localhost:8080/"
        },
        "id": "bP2j82ftcJd4",
        "outputId": "b492a5be-092b-42b9-93af-044af3db1d33"
      },
      "execution_count": null,
      "outputs": [
        {
          "output_type": "stream",
          "name": "stdout",
          "text": [
            "Halo dunia\n"
          ]
        }
      ]
    },
    {
      "cell_type": "code",
      "source": [
        "print(a.capitalize())"
      ],
      "metadata": {
        "colab": {
          "base_uri": "https://localhost:8080/"
        },
        "id": "w6dBYBw8j86y",
        "outputId": "62507f16-cbe3-4006-c7fb-8fe0a84fe2e7"
      },
      "execution_count": null,
      "outputs": [
        {
          "output_type": "stream",
          "name": "stdout",
          "text": [
            "Halo dunia\n"
          ]
        }
      ]
    },
    {
      "cell_type": "code",
      "source": [
        "#@title Split\n",
        "\n",
        "a = \"Halo, Dunia, Semua\"\n",
        "b = a.split(\", \")\n",
        "print(type(a))\n",
        "print(a[10])\n",
        "print(b)\n",
        "print(type(b))\n",
        "print(b[2]) # Output: [\"Halo\", \"Dunia\", \"Semua\"]\n"
      ],
      "metadata": {
        "colab": {
          "base_uri": "https://localhost:8080/"
        },
        "id": "q-oqkEnVcEBE",
        "outputId": "03c24793-2d5c-4af9-dabe-c92606195597"
      },
      "execution_count": null,
      "outputs": [
        {
          "output_type": "stream",
          "name": "stdout",
          "text": [
            "<class 'str'>\n",
            "a\n",
            "['Halo', 'Dunia', 'Semua']\n",
            "<class 'list'>\n",
            "Semua\n"
          ]
        }
      ]
    },
    {
      "cell_type": "code",
      "source": [
        "#@title Join\n",
        "\n",
        "a = [\"Halo\", \"Dunia\", \"Semua\"]\n",
        "b = \", \".join(a)\n",
        "\n",
        "print(type(a))\n",
        "print(a)\n",
        "\n",
        "print(\"========\")\n",
        "print(type(b))\n",
        "print(b) # Output: \"Halo, Dunia, Semua\"\n"
      ],
      "metadata": {
        "colab": {
          "base_uri": "https://localhost:8080/"
        },
        "id": "qDv3FYvtcHWR",
        "outputId": "c6ec7e0a-fce0-462a-cbf1-ab738b90a1a4"
      },
      "execution_count": null,
      "outputs": [
        {
          "output_type": "stream",
          "name": "stdout",
          "text": [
            "<class 'list'>\n",
            "['Halo', 'Dunia', 'Semua']\n",
            "========\n",
            "<class 'str'>\n",
            "Halo, Dunia, Semua\n"
          ]
        }
      ]
    },
    {
      "cell_type": "markdown",
      "source": [
        "## Typecasting"
      ],
      "metadata": {
        "id": "hL4dJ7pidbzS"
      }
    },
    {
      "cell_type": "code",
      "source": [
        "#@title Data Type Casting - Integer\n",
        "\n",
        "x = '5'\n",
        "y = int(x)\n",
        "\n",
        "print(type(x))\n",
        "print(y)    # Output: 5\n",
        "print(type(y)) # Output: int\n"
      ],
      "metadata": {
        "colab": {
          "base_uri": "https://localhost:8080/"
        },
        "id": "EaXA3DKPdeIE",
        "outputId": "85a6141f-1089-4e9f-b846-d3de01bbb0d8"
      },
      "execution_count": null,
      "outputs": [
        {
          "output_type": "stream",
          "name": "stdout",
          "text": [
            "<class 'str'>\n",
            "5\n",
            "<class 'int'>\n"
          ]
        }
      ]
    },
    {
      "cell_type": "code",
      "source": [
        "#@title Data Type Casting - Float\n",
        "\n",
        "\n",
        "x = '3'\n",
        "y = float(x)\n",
        "print(y)    # Output: 3.14\n",
        "print(type(y)) # Output: float\n"
      ],
      "metadata": {
        "colab": {
          "base_uri": "https://localhost:8080/"
        },
        "id": "UAghXDHKdjei",
        "outputId": "efe63bbb-cce0-4acd-c22c-485b23e7e595"
      },
      "execution_count": null,
      "outputs": [
        {
          "output_type": "stream",
          "name": "stdout",
          "text": [
            "3.0\n",
            "<class 'float'>\n"
          ]
        }
      ]
    },
    {
      "cell_type": "code",
      "source": [
        "#@title Data Type Casting - String\n",
        "\n",
        "x = 5\n",
        "y = str(x)\n",
        "\n",
        "print(type(x))\n",
        "print(y)    # Output: '5'\n",
        "print(type(y)) # Output: str\n"
      ],
      "metadata": {
        "colab": {
          "base_uri": "https://localhost:8080/"
        },
        "id": "K4fCSz9AdlBG",
        "outputId": "977d2a93-bdf5-4ff6-c1d4-350905fc2c6d"
      },
      "execution_count": null,
      "outputs": [
        {
          "output_type": "stream",
          "name": "stdout",
          "text": [
            "<class 'int'>\n",
            "5\n",
            "<class 'str'>\n"
          ]
        }
      ]
    },
    {
      "cell_type": "code",
      "source": [
        "#@title Data Type Casting - Boolean\n",
        "\n",
        "x = ''\n",
        "y = bool(x)\n",
        "print(y)    # Output: False\n",
        "print(type(y)) # Output: bool\n"
      ],
      "metadata": {
        "colab": {
          "base_uri": "https://localhost:8080/"
        },
        "id": "IkQ4NKhVdmsy",
        "outputId": "72a12553-8714-4f2f-8e10-58c8df8b029b"
      },
      "execution_count": null,
      "outputs": [
        {
          "output_type": "stream",
          "name": "stdout",
          "text": [
            "False\n",
            "<class 'bool'>\n"
          ]
        }
      ]
    },
    {
      "cell_type": "markdown",
      "source": [
        "## Latihan"
      ],
      "metadata": {
        "id": "E1uA8qvil0y7"
      }
    },
    {
      "cell_type": "markdown",
      "source": [
        "1. Buat contoh :\n",
        "- Variabel\n",
        "- Data type\n",
        "- Arithmatic\n",
        "- manipulation\n",
        "- type casting"
      ],
      "metadata": {
        "id": "Bk7cOMhFeHjA"
      }
    },
    {
      "cell_type": "markdown",
      "source": [
        "2. Diberikan nomor telepon berikut.\n",
        "\n",
        "phone_num = “+62801-0029-9000”\n",
        "\n",
        "ganti “+62” menjadi “0” dan hilangkan simbol “-”\n"
      ],
      "metadata": {
        "id": "WgK-qJbMmC6j"
      }
    },
    {
      "cell_type": "markdown",
      "source": [
        "## Jawaban"
      ],
      "metadata": {
        "id": "Bh2Nozmw6Eqb"
      }
    },
    {
      "cell_type": "code",
      "source": [
        "# Variabel dan Tipe Data\n",
        "a = 10          # integer\n",
        "b = 3.5         # float\n",
        "name = \"John\"   # string\n",
        "is_student = True  # boolean\n",
        "\n",
        "# Operasi Aritmatika\n",
        "sum_result = a + b    # Penjumlahan\n",
        "diff_result = a - b   # Pengurangan\n",
        "mult_result = a * b   # Perkalian\n",
        "div_result = a / b    # Pembagian\n",
        "\n",
        "# Manipulasi Data\n",
        "name_upper = name.upper()  # Mengubah string menjadi huruf kapital\n",
        "is_student_str = str(is_student)  # Mengubah boolean ke string\n",
        "\n",
        "# Type Casting\n",
        "a_float = float(a)   # Mengubah integer menjadi float\n",
        "b_int = int(b)       # Mengubah float menjadi integer\n",
        "\n",
        "# Hasil\n",
        "print(\"Penjumlahan:\", sum_result)\n",
        "print(\"Pengurangan:\", diff_result)\n",
        "print(\"Perkalian:\", mult_result)\n",
        "print(\"Pembagian:\", div_result)\n",
        "print(\"Nama dengan huruf kapital:\", name_upper)\n",
        "print(\"Apakah mahasiswa (sebagai string):\", is_student_str)\n",
        "print(\"Tipe casting dari a (int ke float):\", a_float)\n",
        "print(\"Tipe casting dari b (float ke int):\", b_int)"
      ],
      "metadata": {
        "id": "QjvtvEgj6L6J",
        "colab": {
          "base_uri": "https://localhost:8080/"
        },
        "outputId": "b2e3fc35-90ec-4a91-d47d-fbb5d7889b3c"
      },
      "execution_count": null,
      "outputs": [
        {
          "output_type": "stream",
          "name": "stdout",
          "text": [
            "Penjumlahan: 13.5\n",
            "Pengurangan: 6.5\n",
            "Perkalian: 35.0\n",
            "Pembagian: 2.857142857142857\n",
            "Nama dengan huruf kapital: JOHN\n",
            "Apakah mahasiswa (sebagai string): True\n",
            "Tipe casting dari a (int ke float): 10.0\n",
            "Tipe casting dari b (float ke int): 3\n"
          ]
        }
      ]
    },
    {
      "cell_type": "code",
      "source": [
        "# Nomor telepon yang diberikan\n",
        "phone_num = \"+62801-0029-9000\"\n",
        "\n",
        "# Ganti \"+62\" dengan \"0\"\n",
        "phone_num = phone_num.replace(\"+62\", \"0\")\n",
        "\n",
        "# Hilangkan semua simbol \"-\"\n",
        "phone_num = phone_num.replace(\"-\", \"\")\n",
        "\n",
        "# Hasil akhir\n",
        "print(phone_num)\n"
      ],
      "metadata": {
        "colab": {
          "base_uri": "https://localhost:8080/"
        },
        "id": "Xrn2DEeMwt6t",
        "outputId": "cd8f6b87-948c-4d5a-d926-0f576d555b3b"
      },
      "execution_count": null,
      "outputs": [
        {
          "output_type": "stream",
          "name": "stdout",
          "text": [
            "080100299000\n"
          ]
        }
      ]
    }
  ]
}